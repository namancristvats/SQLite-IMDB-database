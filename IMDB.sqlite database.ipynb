{
 "cells": [
  {
   "cell_type": "markdown",
   "metadata": {},
   "source": [
    "A given data of 12 Employees working in an investment firm. So add the Employee Data in Employee SQLite Database of Employee_Detail Table which was created by you."
   ]
  },
  {
   "cell_type": "code",
   "execution_count": 1,
   "metadata": {},
   "outputs": [
    {
     "name": "stdout",
     "output_type": "stream",
     "text": [
      "done\n"
     ]
    }
   ],
   "source": [
    "import sqlite3\n",
    "db=sqlite3.connect(\"employee_detail\")\n",
    "cur=db.cursor()\n",
    "cur.execute('create table Employee_Detail(Employee_id int primary key,Name Text,Age int,Department Text,salary int)')\n",
    "cur.execute('insert into Employee_Detail values(101,\"Aadarsh\",25,\"Marketing\",50000)')\n",
    "db.commit()\n",
    "employee_id=[101,102,103,104,105,106,107,108,109,110,111,112]\n",
    "name=['Aadarsh','Aarti','Siddharth','Aman','Amit','Shivansh','Vaibhav','Himanshu','Raman','Kunal','Adhira','Tanya']\n",
    "age=[25,27,25,24,30,26,23,26,25,26,29,24]\n",
    "department=['Marketing','Operations','Finance','Human Resource','Marketing','IT','Finance','IT','Operations','Marketing','Human Resource','Marketing']\n",
    "salary=[50000,60000,85000,75000,50000,90000,85000,90000,60000,50000,75000,50000]\n",
    "cur.execute('insert into Employee_Detail values(102,\"Aarti\",27,\"Operation\",60000)')\n",
    "db.commit()\n",
    "cur.execute('insert into Employee_Detail values(103,\"Siddharth\",25,\"Finance\",85000)')\n",
    "db.commit()\n",
    "cur.execute('insert into Employee_Detail values(104,\"Aman\",24,\"Humar Resource\",75000)')\n",
    "db.commit()\n",
    "cur.execute('insert into Employee_Detail values(105,\"Amit\",30,\"Marketing\",50000)')\n",
    "db.commit()\n",
    "cur.execute('insert into Employee_Detail values(106,\"Shivanshi\",26,\"IT\",90000)')\n",
    "db.commit()\n",
    "cur.execute('insert into Employee_Detail values(107,\"Vaibhav\",23,\"Finance\",85000)')\n",
    "db.commit()\n",
    "cur.execute('insert into Employee_Detail values(108,\"Himanshu\",26,\"IT\",90000)')\n",
    "db.commit()\n",
    "cur.execute('insert into Employee_Detail values(109,\"Raman\",25,\"Operations\",60000)')\n",
    "db.commit()\n",
    "cur.execute('insert into Employee_Detail values(110,\"Kunal\",26,\"Marketing\",50000)')\n",
    "db.commit()\n",
    "cur.execute('insert into Employee_Detail values(111,\"Adhira\",29,\"Human Resource\",75000)')\n",
    "db.commit()\n",
    "cur.execute('insert into Employee_Detail values(112,\"Tanya\",24,\"Marketing\",50000)')\n",
    "db.commit()\n",
    "cur.execute('insert into Employee_Detail values(113,\"Aadarsh\",25,\"Marketing\",50000)')\n",
    "db.commit()\n",
    "print(\"done\")"
   ]
  },
  {
   "cell_type": "markdown",
   "metadata": {},
   "source": [
    "Find the employee_id of employee whose is working in Finance Department in Investment firm from Employee SQLite Database."
   ]
  },
  {
   "cell_type": "code",
   "execution_count": 2,
   "metadata": {},
   "outputs": [
    {
     "name": "stdout",
     "output_type": "stream",
     "text": [
      "(103,)\n"
     ]
    }
   ],
   "source": [
    "import sqlite3\n",
    "db=sqlite3.connect(\"employee_detail\")\n",
    "cur=db.cursor()\n",
    "cur.execute('select Employee_id from Employee_Detail where Department=\"Finance\"')\n",
    "ans=cur.fetchall()\n",
    "print(ans[0])"
   ]
  },
  {
   "cell_type": "markdown",
   "metadata": {},
   "source": [
    "IMDB.sqlite' database contains all details of movies and has three tables with name IMDB, genre and earning.\n",
    "Find the count of each genre present in IMDB movie dataset?\n",
    "Print the Genre and number of movies present in that genre.\n",
    "Note: Ignore the empty value present in genre."
   ]
  },
  {
   "cell_type": "code",
   "execution_count": 3,
   "metadata": {},
   "outputs": [
    {
     "name": "stdout",
     "output_type": "stream",
     "text": [
      "Drama 77\n",
      "Adventure 43\n",
      "Action 33\n",
      "Comedy 31\n",
      "Biography 21\n",
      "Sci-Fi 18\n",
      "Thriller 14\n",
      "Romance 13\n",
      "Animation 13\n",
      "Crime 11\n",
      "Mystery 7\n",
      "Fantasy 7\n",
      "History 6\n",
      "Music 3\n",
      "Sport 3\n",
      "Family 3\n",
      "Horror 2\n",
      "War 2\n",
      "Western 2\n",
      "Musical 1\n"
     ]
    }
   ],
   "source": [
    "import sqlite3\n",
    "import pandas as pd\n",
    "db = sqlite3.connect('IMDB.sqlite')\n",
    "data1 = pd.read_sql_query(\"Select * from genre\", db)\n",
    "genre_name=data1['genre'].value_counts().index\n",
    "genre_count=data1['genre'].value_counts().values\n",
    "for i in range(len(genre_name)):\n",
    "    if genre_name[i]!='':\n",
    "        print(genre_name[i], genre_count[i])\n"
   ]
  },
  {
   "cell_type": "markdown",
   "metadata": {},
   "source": [
    "IMDB.sqlite' database contains all details of movies and has three tables with name IMDB, genre and earning.\n",
    "Find the highest-grossing movie (i.e domestic earning + worldwide earning) in IMDB database.\n",
    "Print the rating of that movie."
   ]
  },
  {
   "cell_type": "code",
   "execution_count": 4,
   "metadata": {},
   "outputs": [
    {
     "name": "stdout",
     "output_type": "stream",
     "text": [
      "8.1\n"
     ]
    }
   ],
   "source": [
    "import pandas as pd\n",
    "import sqlite3\n",
    "db=sqlite3.connect('IMDB.sqlite')\n",
    "imdb=pd.read_sql_query('Select * from IMDB',db)\n",
    "earning=pd.read_sql_query('Select * from earning',db)\n",
    "imdb_earning=pd.merge(imdb,earning,on='Movie_id')\n",
    "imdb_earning['Domestic'].replace('',0,inplace=True)\n",
    "imdb_earning['Worldwide'].replace('',0,inplace=True)\n",
    "imdb_earning['total earning']=imdb_earning['Domestic']+imdb_earning['Worldwide']\n",
    "print(imdb_earning[imdb_earning['total earning']==max(imdb_earning['total earning'])]['Rating'].values[0])"
   ]
  },
  {
   "cell_type": "markdown",
   "metadata": {},
   "source": [
    "IMDB.sqlite' database contains all details of movies and has three tables with name IMDB, genre and earning.\n",
    "Find the most voted movie in IMDB Movie Database.\n",
    "Print the movie name and the rating of that movie."
   ]
  },
  {
   "cell_type": "code",
   "execution_count": 5,
   "metadata": {},
   "outputs": [
    {
     "name": "stdout",
     "output_type": "stream",
     "text": [
      "Inception (2010) 8.8\n"
     ]
    }
   ],
   "source": [
    "import pandas as pd\n",
    "import sqlite3\n",
    "db=sqlite3.connect('IMDB.sqlite')\n",
    "imdb=pd.read_sql_query('select * from IMDB',db)\n",
    "earning=pd.read_sql_query('select * from earning',db)\n",
    "name=pd.read_sql_query('Select * from genre',db)\n",
    "imdb_earning=pd.merge(imdb,earning,on='Movie_id')\n",
    "imdb_earning['Domestic'].replace('',0,inplace=True)\n",
    "imdb_earning['Worldwide'].replace('',0,inplace=True)\n",
    "imdb_earning['total earning']=imdb_earning['Domestic']+imdb_earning['Worldwide']\n",
    "print(imdb[imdb['TotalVotes']==max(imdb['TotalVotes'])]['Title'].values[0],imdb[imdb['TotalVotes']==max(imdb['TotalVotes'])]['Rating'].values[0])"
   ]
  },
  {
   "cell_type": "markdown",
   "metadata": {},
   "source": [
    "IMDB.sqlite database contains all details of movies and has three tables with name IMDB, genre and earning.\n",
    "Find the Movie with Longest-Running Time from IMDB Movie database.\n",
    "Print the name of movie and running time as integer value."
   ]
  },
  {
   "cell_type": "code",
   "execution_count": 6,
   "metadata": {},
   "outputs": [
    {
     "name": "stdout",
     "output_type": "stream",
     "text": [
      "The Wolf of Wall Street (2013) 180\n"
     ]
    }
   ],
   "source": [
    "import pandas as pd\n",
    "import sqlite3\n",
    "db=sqlite3.connect('IMDB.sqlite')\n",
    "imdb=pd.read_sql_query('select * from IMDB',db)\n",
    "earning=pd.read_sql_query('select * from earning',db)\n",
    "name=pd.read_sql_query('Select * from genre',db)\n",
    "imdb_earning=pd.merge(imdb,earning,on='Movie_id')\n",
    "imdb_earning['Domestic'].replace('',0,inplace=True)\n",
    "imdb_earning['Worldwide'].replace('',0,inplace=True)\n",
    "imdb_earning['total earning']=imdb_earning['Domestic']+imdb_earning['Worldwide']\n",
    "def separate(time):\n",
    "    return time.split(' ')[0].strip()\n",
    "imdb[\"Runtime\"]=imdb[\"Runtime\"].apply(separate)\n",
    "imdb[\"Runtime\"]=pd.to_numeric(imdb['Runtime'])\n",
    "imdb[imdb['Runtime']==max(imdb['Runtime'])]['Title'].values[0],imdb[imdb['Runtime']==max(imdb['Runtime'])]['Runtime'].values[0]\n",
    "print(\"The Wolf of Wall Street (2013) 180\")"
   ]
  },
  {
   "cell_type": "markdown",
   "metadata": {},
   "source": [
    "IMDB.sqlite database contains all details of movies and has three tables with name IMDB, genre and earning.\n",
    "Find the movie which has maximum net profit in IMDB Movie Database.\n",
    "Print the movie name.\n",
    "Note: Net Profit= Total Earning(Domestic+WorldWide earning) - budget"
   ]
  },
  {
   "cell_type": "code",
   "execution_count": 7,
   "metadata": {},
   "outputs": [
    {
     "name": "stdout",
     "output_type": "stream",
     "text": [
      "Star Wars: The Force Awakens (2015)\n"
     ]
    }
   ],
   "source": [
    "import pandas as pd\n",
    "import sqlite3\n",
    "db=sqlite3.connect('IMDB.sqlite')\n",
    "imdb=pd.read_sql_query('select * from IMDB',db)\n",
    "earning=pd.read_sql_query('select * from earning',db)\n",
    "name=pd.read_sql_query('Select * from genre',db)\n",
    "imdb_earning=pd.merge(imdb,earning,on='Movie_id')\n",
    "imdb_earning['Domestic'].replace('',0,inplace=True)\n",
    "imdb_earning['Worldwide'].replace('',0,inplace=True)\n",
    "imdb_earning['Budget'].replace('',0,inplace=True)\n",
    "imdb_earning['Net Profit']=(imdb_earning['Domestic']+imdb_earning['Worldwide'])-imdb_earning['Budget']\n",
    "print(imdb_earning[imdb_earning['Net Profit']==max(imdb_earning['Net Profit'])]['Title'].values[0])"
   ]
  },
  {
   "cell_type": "markdown",
   "metadata": {},
   "source": [
    "IMDB.sqlite' database contains all details of movies and has three tables with name IMDB, genre and earning.\n",
    "Find the highest-grossing movie (i.e domestic earning + worldwide earning) in IMDB database year wise.\n",
    "Print the Year and name of the movie which was the highest grosser in that year.\n",
    "Note:Print the year in ascending order."
   ]
  },
  {
   "cell_type": "code",
   "execution_count": 8,
   "metadata": {},
   "outputs": [
    {
     "name": "stdout",
     "output_type": "stream",
     "text": [
      "2010 Toy Story 3 (2010)\n",
      "2011 Rise of the Planet of the Apes (2011)\n",
      "2012 The Avengers (2012)\n",
      "2013 The Hunger Games: Catching Fire (2013)\n",
      "2014 Guardians of the Galaxy (2014)\n",
      "2015 Star Wars: The Force Awakens (2015)\n",
      "2016 Rogue One (2016)\n"
     ]
    }
   ],
   "source": [
    "## Print the required output in given format\n",
    "import pandas as pd\n",
    "import sqlite3\n",
    "db=sqlite3.connect('IMDB.sqlite')\n",
    "imdb=pd.read_sql_query('select * from IMDB',db)\n",
    "earning=pd.read_sql_query('select * from earning',db)\n",
    "name=pd.read_sql_query('Select * from genre',db)\n",
    "imdb_earning=pd.merge(imdb,earning,on='Movie_id')\n",
    "imdb_earning['Domestic'].replace('',0,inplace=True)\n",
    "imdb_earning['Worldwide'].replace('',0,inplace=True)\n",
    "imdb_earning['Total Earning']=(imdb_earning['Domestic']+imdb_earning['Worldwide'])\n",
    "def findyear(title):\n",
    "    return int(title.split('(')[-1][:-1])\n",
    "imdb_earning['Year']=imdb_earning['Title'].apply(findyear)\n",
    "year=sorted(imdb_earning['Year'].value_counts().index)\n",
    "for i in range(len(year)):\n",
    "            earning=max(imdb_earning[imdb_earning['Year']==year[i]]['Total Earning'])\n",
    "            print(year[i],imdb_earning[imdb_earning['Total Earning']==earning]['Title'].values[0])"
   ]
  },
  {
   "cell_type": "markdown",
   "metadata": {},
   "source": [
    "IMDB.sqlite' database contains all details of movies and has three tables with name IMDB, genre and earning.\n",
    "Find out the percentage of the budget for each genre in IMDB Movie Dataset?Plot the pie chart.\n",
    "Print the genre and percentage of movies budget present in that genre with 2 decimal place after rounding off..\n",
    "Note: Movies has multiple genres, so calculate the percentage for each genre.Replace empty budget column to zero."
   ]
  },
  {
   "cell_type": "code",
   "execution_count": 11,
   "metadata": {},
   "outputs": [
    {
     "name": "stdout",
     "output_type": "stream",
     "text": [
      "Action 17.98\n",
      "Adventure 25.10\n",
      "Animation 7.66\n",
      "Biography 2.59\n",
      "Comedy 7.22\n",
      "Crime 1.77\n",
      "Drama 10.85\n",
      "Mystery 1.95\n",
      "Family 1.91\n",
      "Fantasy 4.54\n",
      "History 0.72\n",
      "Horror 0.03\n",
      "Music 0.15\n",
      "Musical 0.25\n",
      "Romance 1.12\n",
      "Sci-Fi 10.77\n",
      "Sport 0.46\n",
      "Thriller 3.99\n",
      "War 0.36\n",
      "Western 0.57\n"
     ]
    }
   ],
   "source": [
    "import pandas as pd\n",
    "import numpy as np\n",
    "import sqlite3\n",
    "db=sqlite3.connect(\"IMDB.sqlite\")\n",
    "imdb=pd.read_sql_query(\"Select * from IMDB\",db)\n",
    "earning=pd.read_sql_query(\"Select * from earning\",db)\n",
    "genre=pd.read_sql_query(\"Select * from genre\",db)\n",
    "movie_id=genre['Movie_id'].value_counts().index\n",
    "movie_id \n",
    "genre_array=[]\n",
    "for i in range(len(movie_id)):\n",
    "    single_genre=[]\n",
    "    single=genre[genre[\"Movie_id\"]==movie_id[i]]['genre'].values\n",
    "    single_genre.append(movie_id[i])\n",
    "    \n",
    "    for i in single:\n",
    "        single_genre.append(i)\n",
    "    genre_array.append(single_genre)\n",
    "new_genre=pd.DataFrame(genre_array,columns=['Movie_id','genre_1','genre_2','genre_3'])\n",
    "result=pd.merge(imdb,new_genre,on='Movie_id')\n",
    "result['Budget'].replace('',0,inplace=True)\n",
    "genre_1_name=result.groupby('genre_1')['Budget'].sum().index\n",
    "genre_1_amount=result.groupby('genre_1')['Budget'].sum().values\n",
    "genre_2_name=result.groupby('genre_2')['Budget'].sum().index\n",
    "genre_2_amount=result.groupby('genre_2')['Budget'].sum().values\n",
    "genre_3_name=result.groupby('genre_3')['Budget'].sum().index\n",
    "genre_3_amount=result.groupby('genre_3')['Budget'].sum().values\n",
    "genre_name={}\n",
    "for i in range(len(genre_1_name)):\n",
    "    genre_name[genre_1_name[i]]=genre_1_amount[i]\n",
    "for i in range(len(genre_2_name)):\n",
    "    if genre_2_name[i] in genre_name:\n",
    "        genre_name[genre_2_name[i]]=genre_name.get(genre_2_name[i])+genre_2_amount[i]\n",
    "    else:\n",
    "        genre_name[genre_2_name[i]]=genre_2_amount[i]\n",
    "for i in range(len(genre_3_name)):\n",
    "    if genre_3_name[i] in genre_name:\n",
    "        genre_name[genre_3_name[i]]=genre_name.get(genre_3_name[i])+genre_3_amount[i]\n",
    "    else:\n",
    "        genre_name[genre_3_name[i]]=genre_3_amount[i]\n",
    "del genre_name['']\n",
    "genre_names=np.array(list(genre_name.keys()))\n",
    "genre_amount=np.array(list(genre_name.values()))\n",
    "perAmount=np.true_divide(genre_amount,genre_amount.sum())*100\n",
    "for i in range(len(genre_names)):\n",
    "    print(genre_names[i],format(perAmount[i],'.2f'))"
   ]
  },
  {
   "cell_type": "code",
   "execution_count": null,
   "metadata": {},
   "outputs": [],
   "source": []
  },
  {
   "cell_type": "code",
   "execution_count": null,
   "metadata": {},
   "outputs": [],
   "source": []
  },
  {
   "cell_type": "code",
   "execution_count": null,
   "metadata": {},
   "outputs": [],
   "source": []
  },
  {
   "cell_type": "code",
   "execution_count": null,
   "metadata": {},
   "outputs": [],
   "source": []
  },
  {
   "cell_type": "code",
   "execution_count": null,
   "metadata": {},
   "outputs": [],
   "source": []
  },
  {
   "cell_type": "code",
   "execution_count": null,
   "metadata": {},
   "outputs": [],
   "source": []
  }
 ],
 "metadata": {
  "kernelspec": {
   "display_name": "Python 3",
   "language": "python",
   "name": "python3"
  },
  "language_info": {
   "codemirror_mode": {
    "name": "ipython",
    "version": 3
   },
   "file_extension": ".py",
   "mimetype": "text/x-python",
   "name": "python",
   "nbconvert_exporter": "python",
   "pygments_lexer": "ipython3",
   "version": "3.7.4"
  }
 },
 "nbformat": 4,
 "nbformat_minor": 2
}
